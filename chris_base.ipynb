{
 "cells": [
  {
   "cell_type": "code",
   "execution_count": null,
   "id": "fdfb6ea8-92ed-439f-8df9-016b63b73d78",
   "metadata": {},
   "outputs": [],
   "source": [
    "import arrow, json, time\n",
    "from TwitterAPI import TwitterAPI, TwitterPager\n",
    "from datetime import datetime, timedelta\n",
    "from hashlib import md5\n",
    "from os.path import isfile"
   ]
  },
  {
   "cell_type": "code",
   "execution_count": null,
   "id": "3c456aef-1dbc-4072-8405-15e52f4e6af3",
   "metadata": {},
   "outputs": [],
   "source": [
    "consumer_key='pNJRnQ12vRHBZYj0HQlB5aEBC'\n",
    "consumer_secret='fG2M11dNyYxNhcbzztVyr9T8Z3YG3yOF0iEuJrAFbfvDbCtTTz'\n",
    "\n",
    "api = TwitterAPI(consumer_key, consumer_secret, auth_type='oAuth2', api_version='2')"
   ]
  },
  {
   "cell_type": "code",
   "execution_count": null,
   "id": "624a79f7-e786-46f6-b1cc-55f827e28e74",
   "metadata": {},
   "outputs": [],
   "source": [
    "import arrow, json, time\n",
    "from TwitterAPI import TwitterPager\n",
    "from datetime import datetime, timedelta\n",
    "from hashlib import md5\n",
    "from os.path import isfile\n",
    "\n",
    "def md5JSONhash(jobj):\n",
    "    a = json.dumps(jobj, sort_keys=True)\n",
    "    return md5(a.encode(\"utf-8\")).hexdigest()\n",
    "\n",
    "path_hash = lambda x: md5JSONhash(x)[0:7]\n",
    "\n",
    "def download(query, start, end, output_folder):\n",
    "    print(f'{path_hash(query)}')\n",
    "    \n",
    "    for d in arrow.Arrow.span_range('day', start, end):\n",
    "        s, e = d\n",
    "            \n",
    "        base_name = f'{output_folder}/{path_hash(query)}_{s.format(\"YYYY-MM-DD\")}'\n",
    "        \n",
    "        ## check if file already exists\n",
    "        if isfile(f'{base_name}_req.json'):\n",
    "            continue\n",
    "\n",
    "        r = TwitterPager(api, 'tweets/search/all', {\n",
    "            'query': query, \n",
    "            'max_results': 100,\n",
    "            'start_time': s.format('YYYY-MM-DDTHH:mm:ssZZ'),\n",
    "            'end_time': e.format('YYYY-MM-DDTHH:mm:ssZZ'),\n",
    "            \n",
    "            'expansions': 'attachments.media_keys,author_id,entities.mentions.username,geo.place_id,in_reply_to_user_id,referenced_tweets.id,referenced_tweets.id.author_id',\n",
    "            'tweet.fields': 'public_metrics,reply_settings,source,text,id,author_id,entities,created_at,attachments,context_annotations,lang,possibly_sensitive,withheld,conversation_id,geo,in_reply_to_user_id,referenced_tweets',\n",
    "            'user.fields': 'created_at,description,entities,id,location,name,pinned_tweet_id,profile_image_url,protected,public_metrics,username,verified,withheld',\n",
    "            'place.fields': 'contained_within,country,country_code,full_name,geo,id,name,place_type',\n",
    "        }, hydrate_type=2)\n",
    "        \n",
    "        \n",
    "        ## load data\n",
    "        path = f'{base_name}_res.jsonl'\n",
    "\n",
    "        for i, item in enumerate(r.get_iterator(wait=5)):\n",
    "            if 'text' in item:\n",
    "                with open(path, 'a') as of:\n",
    "                    of.write(json.dumps(item) + '\\n')\n",
    "                    of.flush()\n",
    "\n",
    "            elif 'message' in item and item['code'] == 88:\n",
    "                print('rate limit')\n",
    "                time.sleep(10)\n",
    "        \n",
    "        ## store query information\n",
    "        with open(f'{base_name}_req.json', 'w') as of:\n",
    "            json.dump(r.params, of)\n",
    "        \n",
    "        time.sleep(7)"
   ]
  },
  {
   "cell_type": "code",
   "execution_count": null,
   "id": "a575d27b-8b02-4fd9-a83c-1b0cc115c36a",
   "metadata": {},
   "outputs": [],
   "source": [
    "import datetime"
   ]
  },
  {
   "cell_type": "code",
   "execution_count": null,
   "id": "166ef869-0191-4764-ac7c-0b64418841d3",
   "metadata": {},
   "outputs": [],
   "source": [
    "keywords=[\"usa\"]\n",
    "query=f'({\" OR \".join(keywords)}) -has:links -is:reply -is:retweet -has:videos -has:images -has:media lang:en'\n",
    "download(query,datetime.datetime(2021, 11, 18), datetime.datetime(2021, 11, 23),'.')"
   ]
  },
  {
   "cell_type": "code",
   "execution_count": null,
   "id": "f3adb3fd-db4d-435e-925d-92caf6e6a041",
   "metadata": {},
   "outputs": [],
   "source": []
  },
  {
   "cell_type": "code",
   "execution_count": 2,
   "id": "580ef273-273e-4b01-aaaf-dc4fbfe72447",
   "metadata": {},
   "outputs": [],
   "source": [
    "import time\n",
    "from watchdog.observers import Observer\n",
    "from watchdog.events import FileSystemEventHandler"
   ]
  },
  {
   "cell_type": "code",
   "execution_count": 3,
   "id": "7c4422b4-d141-411b-9cb3-b325efa7a8a1",
   "metadata": {},
   "outputs": [],
   "source": [
    "class  MyHandler(FileSystemEventHandler):\n",
    "    def  on_modified(self,  event):\n",
    "         print(f'event type: {event.event_type} path : {event.src_path}')\n",
    "#     def  on_created(self,  event):\n",
    "#          print(f'event type: {event.event_type} path : {event.src_path}')\n",
    "#     def  on_deleted(self,  event):\n",
    "#          print(f'event type: {event.event_type} path : {event.src_path}')\n"
   ]
  },
  {
   "cell_type": "code",
   "execution_count": 6,
   "id": "7e5c2989-dd26-47c2-89d1-cff500c7df61",
   "metadata": {},
   "outputs": [
    {
     "name": "stdout",
     "output_type": "stream",
     "text": [
      "hi\n"
     ]
    }
   ],
   "source": [
    "event_handler = MyHandler()\n",
    "observer = Observer()\n",
    "observer.schedule(event_handler,  path='./change.txt',  recursive=False)\n",
    "observer.start()\n",
    "\n",
    "# while True:\n",
    "#     print(\"waiting\")\n",
    "#     time.sleep(6)"
   ]
  },
  {
   "cell_type": "code",
   "execution_count": 7,
   "id": "f3dada34-0902-4bfb-bcd3-c927cfe34d4d",
   "metadata": {},
   "outputs": [
    {
     "name": "stdout",
     "output_type": "stream",
     "text": [
      "event type: modified path : ./change.txt\n",
      "event type: modified path : ./change.txt\n"
     ]
    }
   ],
   "source": [
    "observer.join()"
   ]
  },
  {
   "cell_type": "code",
   "execution_count": null,
   "id": "59e6fe1d-c8ac-455b-a09c-fac96323c7bd",
   "metadata": {},
   "outputs": [],
   "source": [
    "datetime(\"2021-10-23\")"
   ]
  },
  {
   "cell_type": "code",
   "execution_count": null,
   "id": "049a3727-b087-4327-8153-5c01c70b4951",
   "metadata": {},
   "outputs": [],
   "source": [
    "datetime.strptime(\"2021-10-23\")"
   ]
  },
  {
   "cell_type": "code",
   "execution_count": null,
   "id": "50c4952b-b6aa-4cc5-8f4a-ef6c49c9c42b",
   "metadata": {},
   "outputs": [],
   "source": [
    "datetime.fromisoformat(\"2021-10-23\")"
   ]
  },
  {
   "cell_type": "code",
   "execution_count": null,
   "id": "512f8b6d-e441-4a8e-8471-f9ff51973689",
   "metadata": {},
   "outputs": [],
   "source": []
  }
 ],
 "metadata": {
  "kernelspec": {
   "display_name": "Python 3 (ipykernel)",
   "language": "python",
   "name": "python3"
  },
  "language_info": {
   "codemirror_mode": {
    "name": "ipython",
    "version": 3
   },
   "file_extension": ".py",
   "mimetype": "text/x-python",
   "name": "python",
   "nbconvert_exporter": "python",
   "pygments_lexer": "ipython3",
   "version": "3.9.6"
  }
 },
 "nbformat": 4,
 "nbformat_minor": 5
}
