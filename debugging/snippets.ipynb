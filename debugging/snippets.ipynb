{
 "cells": [
  {
   "cell_type": "markdown",
   "id": "2be1b09f-0b1c-4255-aeec-01df5d6a4556",
   "metadata": {},
   "source": [
    "### simple request"
   ]
  },
  {
   "cell_type": "code",
   "execution_count": null,
   "id": "57d39fb6-afb0-4242-9c52-0b48b9a72776",
   "metadata": {},
   "outputs": [],
   "source": [
    "import arrow, json, time\n",
    "from TwitterAPI import TwitterAPI, TwitterPager\n",
    "from datetime import datetime, timedelta\n",
    "from hashlib import md5\n",
    "from os.path import isfile"
   ]
  },
  {
   "cell_type": "code",
   "execution_count": null,
   "id": "00694499-62d3-4ae2-9819-b00e30d82b79",
   "metadata": {},
   "outputs": [],
   "source": [
    "consumer_key='pNJRnQ12vRHBZYj0HQlB5aEBC'\n",
    "consumer_secret='fG2M11dNyYxNhcbzztVyr9T8Z3YG3yOF0iEuJrAFbfvDbCtTTz'\n",
    "access_token_key='389696394-2znZZowLY57AXT2rBMuN7lYZpva9PgKJL9B9UDM2'\n",
    "access_token_secret='H7d2ijYXfFGu1fHni3MZ7ms8XiU5KMqV8W4dtsmwl7AXD'\n",
    "\n",
    "api = TwitterAPI(consumer_key, consumer_secret, access_token_key, access_token_secret)"
   ]
  },
  {
   "cell_type": "code",
   "execution_count": null,
   "id": "5f26c5b2-39b1-4b32-abf2-a038b7a5670b",
   "metadata": {},
   "outputs": [],
   "source": [
    "keywords=[\"usa\"]\n",
    "query=f'({\" OR \".join(keywords)}) -has:links -is:reply -is:retweet -has:videos -has:images -has:media lang:en'"
   ]
  },
  {
   "cell_type": "code",
   "execution_count": null,
   "id": "00d15a29-55a1-427d-b979-38ab34ccab5f",
   "metadata": {},
   "outputs": [],
   "source": [
    "r = TwitterPager(api, 'tweets/search/all', {\n",
    "    'query': 'pizza', \n",
    "    'max_results': 100,\n",
    "}, hydrate_type=2)"
   ]
  },
  {
   "cell_type": "code",
   "execution_count": null,
   "id": "a589e245-2428-497c-90f8-05ac8a9ad395",
   "metadata": {},
   "outputs": [],
   "source": [
    "for i, item in enumerate(r.get_iterator(wait=5)):\n",
    "    print(item)"
   ]
  },
  {
   "cell_type": "code",
   "execution_count": null,
   "id": "c64af605-fea7-4bbf-9127-059bac8ce570",
   "metadata": {},
   "outputs": [],
   "source": []
  },
  {
   "cell_type": "code",
   "execution_count": null,
   "id": "05404773-2e50-4730-b311-c1dd629529cf",
   "metadata": {},
   "outputs": [],
   "source": []
  },
  {
   "cell_type": "code",
   "execution_count": null,
   "id": "9815aa55-e7e7-4c4d-b864-458425c09f84",
   "metadata": {},
   "outputs": [],
   "source": [
    "def md5JSONhash(jobj):\n",
    "    a = json.dumps(jobj, sort_keys=True)\n",
    "    return md5(a.encode(\"utf-8\")).hexdigest()\n",
    "\n",
    "path_hash = lambda x: md5JSONhash(x)[0:7]\n",
    "\n",
    "def download_day(query, day, output_folder='.'):\n",
    "    print(f'{path_hash(query)}')\n",
    "    \n",
    "    day_start, day_end = day\n",
    "\n",
    "    base_name = f'{output_folder}/{path_hash(query)}_{day_start.format(\"YYYY-MM-DD\")}'\n",
    "\n",
    "    ## check if file already exists\n",
    "#     if isfile(f'{base_name}_req.json'):\n",
    "#         continue\n",
    "#     r = TwitterPager(api, 'search/tweets', {'q':'pizza', 'count':100})\n",
    "\n",
    "    r = TwitterPager(api, 'tweets/search/all', {\n",
    "        'q': 'pizza', \n",
    "        'max_results': 100,\n",
    "        'expansions': 'attachments.media_keys,author_id,entities.mentions.username,geo.place_id,in_reply_to_user_id,referenced_tweets.id,referenced_tweets.id.author_id',\n",
    "        'tweet.fields': 'public_metrics,reply_settings,source,text,id,author_id,entities,created_at,attachments,context_annotations,lang,possibly_sensitive,withheld,conversation_id,geo,in_reply_to_user_id,referenced_tweets',\n",
    "        'user.fields': 'created_at,description,entities,id,location,name,pinned_tweet_id,profile_image_url,protected,public_metrics,username,verified,withheld',\n",
    "        'place.fields': 'contained_within,country,country_code,full_name,geo,id,name,place_type',\n",
    "    }, hydrate_type=2)\n",
    "\n",
    "\n",
    "    ## load data\n",
    "    path = f'{base_name}_res.jsonl'\n",
    "\n",
    "    for i, item in enumerate(r.get_iterator(wait=5)):\n",
    "        if 'text' in item:\n",
    "            with open(path, 'a') as of:\n",
    "                of.write(json.dumps(item) + '\\n')\n",
    "                of.flush()\n",
    "\n",
    "        elif 'message' in item and item['code'] == 88:\n",
    "            print('rate limit')\n",
    "            time.sleep(10)\n",
    "\n",
    "    ## store query information\n",
    "    with open(f'{base_name}_req.json', 'w') as of:\n",
    "        json.dump(r.params, of)\n",
    "\n",
    "        time.sleep(7)\n",
    "        \n",
    "for d in arrow.Arrow.span_range('day', datetime.datetime(2021, 11, 18), datetime.datetime(2021, 11, 23)):\n",
    "    download_day(query,d)\n",
    "    break"
   ]
  },
  {
   "cell_type": "code",
   "execution_count": null,
   "id": "e2098724-d5ed-4639-8da0-7357edcf7bcb",
   "metadata": {},
   "outputs": [],
   "source": [
    "for i, item in enumerate(r.get_iterator(wait=5)):\n",
    "    print(item)"
   ]
  },
  {
   "cell_type": "code",
   "execution_count": null,
   "id": "a843767c-cb97-4589-ae2c-194a35314354",
   "metadata": {},
   "outputs": [],
   "source": []
  },
  {
   "cell_type": "code",
   "execution_count": null,
   "id": "635aabc2-81bc-4718-a7fc-0e4e2c5f2f7e",
   "metadata": {},
   "outputs": [],
   "source": []
  },
  {
   "cell_type": "code",
   "execution_count": null,
   "id": "b9e6cf0b-b29b-4e4c-af52-4c7c639beff8",
   "metadata": {},
   "outputs": [],
   "source": [
    "r = api.request('statuses/update', {'status':'This is a tweet!'})\n",
    "print(r.status_code)"
   ]
  },
  {
   "cell_type": "code",
   "execution_count": null,
   "id": "c078db20-e9eb-4eb0-81cd-b86e6287a8a5",
   "metadata": {},
   "outputs": [],
   "source": [
    "r = TwitterPager(api, 'search/tweets', {'q':'pizza', 'count':100})\n",
    "for item in r.get_iterator():\n",
    "    if 'text' in item:\n",
    "        print item['text']\n",
    "    elif 'message' in item and item['code'] == 88:\n",
    "        print 'SUSPEND, RATE LIMIT EXCEEDED: %s\\n' % item['message']\n",
    "        break"
   ]
  },
  {
   "cell_type": "code",
   "execution_count": null,
   "id": "6a67b863-b659-4339-accc-784046f9074b",
   "metadata": {},
   "outputs": [],
   "source": [
    "r = TwitterPager(api, 'search/tweets', {'q':'pizza', 'count':100})\n",
    "for item in r.get_iterator():\n",
    "    if 'text' in item:\n",
    "        print(item['text'])\n",
    "    elif 'message' in item and item['code'] == 88:\n",
    "        print('SUSPEND, RATE LIMIT EXCEEDED: %s\\n' % item['message'])\n",
    "        break"
   ]
  },
  {
   "cell_type": "code",
   "execution_count": null,
   "id": "8c03665e-f354-4eed-8feb-4ffa57a87830",
   "metadata": {},
   "outputs": [],
   "source": []
  },
  {
   "cell_type": "code",
   "execution_count": null,
   "id": "5db9f858-0b7e-401a-8a99-94397bb61fbf",
   "metadata": {},
   "outputs": [],
   "source": []
  },
  {
   "cell_type": "code",
   "execution_count": null,
   "id": "a534a3ce-0d0c-4c77-baad-12ce70076f26",
   "metadata": {},
   "outputs": [],
   "source": [
    "type(x)"
   ]
  },
  {
   "cell_type": "code",
   "execution_count": null,
   "id": "5e0d632e-8537-43ee-ab8d-49e251dfdce3",
   "metadata": {},
   "outputs": [],
   "source": [
    "str(x.values())"
   ]
  },
  {
   "cell_type": "code",
   "execution_count": null,
   "id": "e1922069-cd65-4064-99eb-e43c00b7d89b",
   "metadata": {},
   "outputs": [],
   "source": [
    "frozenset(x.values())"
   ]
  },
  {
   "cell_type": "code",
   "execution_count": null,
   "id": "be617d04-0fbe-4031-a2f1-b6686f336e95",
   "metadata": {},
   "outputs": [],
   "source": [
    "xx = frozenset(x.itervalues())"
   ]
  },
  {
   "cell_type": "code",
   "execution_count": null,
   "id": "650d7f90-a1d7-4aaa-9dd2-65c05c23c8fe",
   "metadata": {},
   "outputs": [],
   "source": [
    "xx[0]"
   ]
  },
  {
   "cell_type": "code",
   "execution_count": null,
   "id": "f93d2b11-f214-40c3-88a8-c5d7d56ec582",
   "metadata": {},
   "outputs": [],
   "source": [
    "test = set()"
   ]
  },
  {
   "cell_type": "code",
   "execution_count": null,
   "id": "0ca74fdd-8f79-4adf-bcd4-560c646f6c71",
   "metadata": {},
   "outputs": [],
   "source": [
    "hash(xx)"
   ]
  },
  {
   "cell_type": "code",
   "execution_count": null,
   "id": "71ceac27-ce0a-4adf-961c-25924e0c6ee0",
   "metadata": {},
   "outputs": [],
   "source": [
    "test.add(hash(xx))"
   ]
  },
  {
   "cell_type": "code",
   "execution_count": null,
   "id": "77a2e2ad-fa2e-4e8a-b01b-8bcff08ade8e",
   "metadata": {},
   "outputs": [],
   "source": [
    "import hashlib\n",
    "import json\n",
    "\n",
    "x = {\"keywords\":[\"usa\",\"covid\",\"pfizer\"],\"start\":\"2019-10-22\",\"end\":\"2021-10-23\"}\n",
    "x1 = {\"keywords\":[\"covid\",\"usa\",\"pfizer\"],\"start\":\"2019-10-22\",\"end\":\"2021-10-23\"}\n",
    "data = ['only', 'lists', [1,2,3], 'dictionaries', {'a':0,'b':1}, 'numbers', 47, 'strings']\n",
    "data_md5 = hashlib.md5(json.dumps(x1, sort_keys=True).encode('utf-8')).hexdigest()\n",
    "\n",
    "print(data_md5)"
   ]
  },
  {
   "cell_type": "code",
   "execution_count": null,
   "id": "6b5659fb-a14a-407d-8b19-3a3fa472aa90",
   "metadata": {},
   "outputs": [],
   "source": [
    "cars = ['Ford', 'BMW', 'Volvo']\n",
    "cars.sort()"
   ]
  },
  {
   "cell_type": "code",
   "execution_count": null,
   "id": "20da2e8f-3497-4c3c-afdb-2e79ee366e95",
   "metadata": {},
   "outputs": [],
   "source": [
    "cars"
   ]
  },
  {
   "cell_type": "code",
   "execution_count": null,
   "id": "54ab7c6f-4c74-42d5-ba06-35f4097879e8",
   "metadata": {},
   "outputs": [],
   "source": [
    "x['keywords'].sort()"
   ]
  },
  {
   "cell_type": "code",
   "execution_count": null,
   "id": "51bd6ba5-8f15-493a-95b5-08ca4ea5d0c2",
   "metadata": {},
   "outputs": [],
   "source": [
    "x"
   ]
  },
  {
   "cell_type": "code",
   "execution_count": null,
   "id": "6c6a777a-c452-4363-b54d-9f579487d1ec",
   "metadata": {},
   "outputs": [],
   "source": [
    "from datetime import datetime"
   ]
  },
  {
   "cell_type": "code",
   "execution_count": null,
   "id": "d05e98f2-b486-4fe6-a87a-6ca686b603f8",
   "metadata": {},
   "outputs": [],
   "source": [
    "x = datetime(2000,3,1)"
   ]
  },
  {
   "cell_type": "code",
   "execution_count": null,
   "id": "7523fcbc-2069-4a47-8cb6-fbbf28f50c9c",
   "metadata": {},
   "outputs": [],
   "source": [
    "import arrow"
   ]
  },
  {
   "cell_type": "code",
   "execution_count": null,
   "id": "9ae330ba-42ba-4f33-ac47-51ccbb9db94e",
   "metadata": {},
   "outputs": [],
   "source": [
    "arrow.Arrow(x)"
   ]
  },
  {
   "cell_type": "code",
   "execution_count": null,
   "id": "e7c036a0-30b4-4982-83f1-0f38b10f9a3e",
   "metadata": {},
   "outputs": [],
   "source": [
    "x"
   ]
  },
  {
   "cell_type": "code",
   "execution_count": null,
   "id": "768ef24e-74ee-4905-acad-c39b45a5e313",
   "metadata": {},
   "outputs": [],
   "source": [
    "arrow.get(x).format('YYYY-MM-DDTHH:mm:ssZZ')"
   ]
  },
  {
   "cell_type": "code",
   "execution_count": null,
   "id": "baaf07ac-071e-457e-a611-1c6e0fb5dd5d",
   "metadata": {},
   "outputs": [],
   "source": [
    "import json"
   ]
  },
  {
   "cell_type": "code",
   "execution_count": null,
   "id": "d6272653-1731-465f-bdef-010c3e87ca82",
   "metadata": {},
   "outputs": [],
   "source": [
    "json.loads('fdsfsdf')"
   ]
  },
  {
   "cell_type": "code",
   "execution_count": null,
   "id": "428d746c-b784-493c-8d96-5083a6600416",
   "metadata": {},
   "outputs": [],
   "source": []
  },
  {
   "cell_type": "code",
   "execution_count": 6,
   "id": "a19b0e7f-b1d0-41ba-95f6-f6458fd9bf52",
   "metadata": {},
   "outputs": [],
   "source": [
    "from multiprocessing import Process, Queue"
   ]
  },
  {
   "cell_type": "code",
   "execution_count": 13,
   "id": "b3354458-5d17-4e54-b735-748c47e7d075",
   "metadata": {},
   "outputs": [],
   "source": [
    "q=Queue()"
   ]
  },
  {
   "cell_type": "code",
   "execution_count": 33,
   "id": "9cce2cf9-01b4-43b1-97ee-57b6f6f9e7ac",
   "metadata": {},
   "outputs": [],
   "source": [
    "q.put({\"hello\":4343})"
   ]
  },
  {
   "cell_type": "code",
   "execution_count": 34,
   "id": "5151b519-0a83-4213-b523-a95e897b3174",
   "metadata": {},
   "outputs": [
    {
     "data": {
      "text/plain": [
       "{'hello': 4343}"
      ]
     },
     "execution_count": 34,
     "metadata": {},
     "output_type": "execute_result"
    }
   ],
   "source": [
    "q.get()"
   ]
  },
  {
   "cell_type": "code",
   "execution_count": null,
   "id": "345e2998-b056-47dd-872c-3f4df1f03cf7",
   "metadata": {},
   "outputs": [],
   "source": []
  }
 ],
 "metadata": {
  "kernelspec": {
   "display_name": "Python 3 (ipykernel)",
   "language": "python",
   "name": "python3"
  },
  "language_info": {
   "codemirror_mode": {
    "name": "ipython",
    "version": 3
   },
   "file_extension": ".py",
   "mimetype": "text/x-python",
   "name": "python",
   "nbconvert_exporter": "python",
   "pygments_lexer": "ipython3",
   "version": "3.9.6"
  }
 },
 "nbformat": 4,
 "nbformat_minor": 5
}
