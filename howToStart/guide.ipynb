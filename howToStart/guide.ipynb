{
 "cells": [
  {
   "cell_type": "markdown",
   "id": "cd637aac-b6e3-4457-a734-3db901e1b2dd",
   "metadata": {
    "tags": []
   },
   "source": [
    "# Guide: Academic Research Access"
   ]
  },
  {
   "cell_type": "markdown",
   "id": "3ee7b932-5311-4b7e-a3a0-d1766585111a",
   "metadata": {},
   "source": [
    "- Login on Twitter with the account that was granted access for the Academic Research API."
   ]
  },
  {
   "cell_type": "markdown",
   "id": "f3f96e96-fc6a-4527-9cd3-8ed65a9b3e58",
   "metadata": {},
   "source": [
    "- Navigate to: https://developer.twitter.com/en/portal/dashboard"
   ]
  },
  {
   "cell_type": "markdown",
   "id": "688130c1-64bb-4740-87b3-ecf462f92ad8",
   "metadata": {},
   "source": [
    "- Click on `Keys und token`.\n",
    "![](./guide_images/keys_and_tokens.png)"
   ]
  },
  {
   "cell_type": "markdown",
   "id": "1368c0ea-e1b2-4f12-b031-2809613ac682",
   "metadata": {},
   "source": [
    "- Click on `(Re)Generate` for `API Key and Secret` and `Access Token and Secret` and save the displayed keys.\n",
    "![](./guide_images/generate_keys.png)"
   ]
  },
  {
   "cell_type": "markdown",
   "id": "1690ff90-1e7d-42d9-9d72-af7d844d35c9",
   "metadata": {
    "tags": []
   },
   "source": [
    "## Your keys should look like this:\n",
    "- **api_Key:** `Q532AMVWorJXXIl1Ojit8dMKW`\n",
    "- **api_key_secret:** `GbbustjBgWPg38EOXiiE3fqlagkggNRONEMihPXo2UqGakFYO5`\n",
    "- **access_token:** `382696390-JfbbCJA46cH5A17A1bfzwa5Vkfry53aD0S5ED7Oc`\n",
    "- **access_token_secret:** `Z1jasgZjCJUf54V65H3VzxmodQE9hjpBnnjgUAsfip3Xu`"
   ]
  },
  {
   "cell_type": "markdown",
   "id": "50daac65-cc70-41a8-bfee-6ebd6196faea",
   "metadata": {
    "tags": []
   },
   "source": [
    "## How to use the keys:\n",
    "- `geduldig/TwitterAPI` is an awesome python client hosted on `github.com/geduldig/TwitterAPI`\n",
    "- there are tons of cool examples on what you can do with the Twitter API here: `https://github.com/geduldig/TwitterAPI/tree/master/examples/v2`"
   ]
  }
 ],
 "metadata": {
  "kernelspec": {
   "display_name": "Python 3 (ipykernel)",
   "language": "python",
   "name": "python3"
  },
  "language_info": {
   "codemirror_mode": {
    "name": "ipython",
    "version": 3
   },
   "file_extension": ".py",
   "mimetype": "text/x-python",
   "name": "python",
   "nbconvert_exporter": "python",
   "pygments_lexer": "ipython3",
   "version": "3.9.7"
  }
 },
 "nbformat": 4,
 "nbformat_minor": 5
}
