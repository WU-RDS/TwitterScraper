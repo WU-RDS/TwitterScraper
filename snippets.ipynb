{
 "cells": [
  {
   "cell_type": "markdown",
   "id": "2be1b09f-0b1c-4255-aeec-01df5d6a4556",
   "metadata": {},
   "source": [
    "### simple request"
   ]
  },
  {
   "cell_type": "code",
   "execution_count": 3,
   "id": "57d39fb6-afb0-4242-9c52-0b48b9a72776",
   "metadata": {},
   "outputs": [],
   "source": [
    "import arrow, json, time\n",
    "from TwitterAPI import TwitterAPI, TwitterPager\n",
    "from datetime import datetime, timedelta\n",
    "from hashlib import md5\n",
    "from os.path import isfile"
   ]
  },
  {
   "cell_type": "code",
   "execution_count": 8,
   "id": "00694499-62d3-4ae2-9819-b00e30d82b79",
   "metadata": {},
   "outputs": [],
   "source": [
    "consumer_key='pNJRnQ12vRHBZYj0HQlB5aEBC'\n",
    "consumer_secret='fG2M11dNyYxNhcbzztVyr9T8Z3YG3yOF0iEuJrAFbfvDbCtTTz'\n",
    "access_token_key='389696394-2znZZowLY57AXT2rBMuN7lYZpva9PgKJL9B9UDM2'\n",
    "access_token_secret='H7d2ijYXfFGu1fHni3MZ7ms8XiU5KMqV8W4dtsmwl7AXD'\n",
    "\n",
    "api = TwitterAPI(consumer_key, consumer_secret, access_token_key, access_token_secret)"
   ]
  },
  {
   "cell_type": "code",
   "execution_count": 9,
   "id": "5f26c5b2-39b1-4b32-abf2-a038b7a5670b",
   "metadata": {},
   "outputs": [],
   "source": [
    "keywords=[\"usa\"]\n",
    "query=f'({\" OR \".join(keywords)}) -has:links -is:reply -is:retweet -has:videos -has:images -has:media lang:en'"
   ]
  },
  {
   "cell_type": "code",
   "execution_count": 10,
   "id": "00d15a29-55a1-427d-b979-38ab34ccab5f",
   "metadata": {},
   "outputs": [],
   "source": [
    "r = TwitterPager(api, 'tweets/search/all', {\n",
    "    'query': 'pizza', \n",
    "    'max_results': 100,\n",
    "}, hydrate_type=2)"
   ]
  },
  {
   "cell_type": "code",
   "execution_count": 11,
   "id": "a589e245-2428-497c-90f8-05ac8a9ad395",
   "metadata": {},
   "outputs": [
    {
     "ename": "TwitterRequestError",
     "evalue": "('{\"errors\":[{\"message\":\"Sorry, that page does not exist\",\"code\":34}]}',) (404): {\"errors\":[{\"message\":\"Sorry, that page does not exist\",\"code\":34}]}",
     "output_type": "error",
     "traceback": [
      "\u001b[0;31m---------------------------------------------------------------------------\u001b[0m",
      "\u001b[0;31mTwitterRequestError\u001b[0m                       Traceback (most recent call last)",
      "\u001b[0;32m/tmp/ipykernel_495/3185307881.py\u001b[0m in \u001b[0;36m<module>\u001b[0;34m\u001b[0m\n\u001b[0;32m----> 1\u001b[0;31m \u001b[0;32mfor\u001b[0m \u001b[0mi\u001b[0m\u001b[0;34m,\u001b[0m \u001b[0mitem\u001b[0m \u001b[0;32min\u001b[0m \u001b[0menumerate\u001b[0m\u001b[0;34m(\u001b[0m\u001b[0mr\u001b[0m\u001b[0;34m.\u001b[0m\u001b[0mget_iterator\u001b[0m\u001b[0;34m(\u001b[0m\u001b[0mwait\u001b[0m\u001b[0;34m=\u001b[0m\u001b[0;36m5\u001b[0m\u001b[0;34m)\u001b[0m\u001b[0;34m)\u001b[0m\u001b[0;34m:\u001b[0m\u001b[0;34m\u001b[0m\u001b[0;34m\u001b[0m\u001b[0m\n\u001b[0m\u001b[1;32m      2\u001b[0m     \u001b[0mprint\u001b[0m\u001b[0;34m(\u001b[0m\u001b[0mitem\u001b[0m\u001b[0;34m)\u001b[0m\u001b[0;34m\u001b[0m\u001b[0;34m\u001b[0m\u001b[0m\n",
      "\u001b[0;32m/opt/conda/lib/python3.9/site-packages/TwitterAPI/TwitterPager.py\u001b[0m in \u001b[0;36mget_iterator\u001b[0;34m(self, wait, new_tweets)\u001b[0m\n\u001b[1;32m     52\u001b[0m                 \u001b[0mstart\u001b[0m \u001b[0;34m=\u001b[0m \u001b[0mtime\u001b[0m\u001b[0;34m.\u001b[0m\u001b[0mtime\u001b[0m\u001b[0;34m(\u001b[0m\u001b[0;34m)\u001b[0m\u001b[0;34m\u001b[0m\u001b[0;34m\u001b[0m\u001b[0m\n\u001b[1;32m     53\u001b[0m                 \u001b[0mr\u001b[0m \u001b[0;34m=\u001b[0m \u001b[0mself\u001b[0m\u001b[0;34m.\u001b[0m\u001b[0mapi\u001b[0m\u001b[0;34m.\u001b[0m\u001b[0mrequest\u001b[0m\u001b[0;34m(\u001b[0m\u001b[0mself\u001b[0m\u001b[0;34m.\u001b[0m\u001b[0mresource\u001b[0m\u001b[0;34m,\u001b[0m \u001b[0mself\u001b[0m\u001b[0;34m.\u001b[0m\u001b[0mparams\u001b[0m\u001b[0;34m,\u001b[0m \u001b[0mhydrate_type\u001b[0m\u001b[0;34m=\u001b[0m\u001b[0mself\u001b[0m\u001b[0;34m.\u001b[0m\u001b[0mhydrate_type\u001b[0m\u001b[0;34m)\u001b[0m\u001b[0;34m\u001b[0m\u001b[0;34m\u001b[0m\u001b[0m\n\u001b[0;32m---> 54\u001b[0;31m                 \u001b[0mit\u001b[0m \u001b[0;34m=\u001b[0m \u001b[0mr\u001b[0m\u001b[0;34m.\u001b[0m\u001b[0mget_iterator\u001b[0m\u001b[0;34m(\u001b[0m\u001b[0;34m)\u001b[0m\u001b[0;34m\u001b[0m\u001b[0;34m\u001b[0m\u001b[0m\n\u001b[0m\u001b[1;32m     55\u001b[0m                 \u001b[0;32mif\u001b[0m \u001b[0mnew_tweets\u001b[0m\u001b[0;34m:\u001b[0m\u001b[0;34m\u001b[0m\u001b[0;34m\u001b[0m\u001b[0m\n\u001b[1;32m     56\u001b[0m                     \u001b[0mit\u001b[0m \u001b[0;34m=\u001b[0m \u001b[0mreversed\u001b[0m\u001b[0;34m(\u001b[0m\u001b[0mlist\u001b[0m\u001b[0;34m(\u001b[0m\u001b[0mit\u001b[0m\u001b[0;34m)\u001b[0m\u001b[0;34m)\u001b[0m\u001b[0;34m\u001b[0m\u001b[0;34m\u001b[0m\u001b[0m\n",
      "\u001b[0;32m/opt/conda/lib/python3.9/site-packages/TwitterAPI/TwitterAPI.py\u001b[0m in \u001b[0;36mget_iterator\u001b[0;34m(self)\u001b[0m\n\u001b[1;32m    267\u001b[0m         \"\"\"\n\u001b[1;32m    268\u001b[0m         \u001b[0;32mif\u001b[0m \u001b[0mself\u001b[0m\u001b[0;34m.\u001b[0m\u001b[0mresponse\u001b[0m\u001b[0;34m.\u001b[0m\u001b[0mstatus_code\u001b[0m \u001b[0;34m!=\u001b[0m \u001b[0;36m200\u001b[0m\u001b[0;34m:\u001b[0m\u001b[0;34m\u001b[0m\u001b[0;34m\u001b[0m\u001b[0m\n\u001b[0;32m--> 269\u001b[0;31m             \u001b[0;32mraise\u001b[0m \u001b[0mTwitterRequestError\u001b[0m\u001b[0;34m(\u001b[0m\u001b[0mself\u001b[0m\u001b[0;34m.\u001b[0m\u001b[0mresponse\u001b[0m\u001b[0;34m.\u001b[0m\u001b[0mstatus_code\u001b[0m\u001b[0;34m,\u001b[0m \u001b[0mmsg\u001b[0m\u001b[0;34m=\u001b[0m\u001b[0mself\u001b[0m\u001b[0;34m.\u001b[0m\u001b[0mresponse\u001b[0m\u001b[0;34m.\u001b[0m\u001b[0mtext\u001b[0m\u001b[0;34m)\u001b[0m\u001b[0;34m\u001b[0m\u001b[0;34m\u001b[0m\u001b[0m\n\u001b[0m\u001b[1;32m    270\u001b[0m \u001b[0;34m\u001b[0m\u001b[0m\n\u001b[1;32m    271\u001b[0m         \u001b[0;32mif\u001b[0m \u001b[0mself\u001b[0m\u001b[0;34m.\u001b[0m\u001b[0moptions\u001b[0m\u001b[0;34m[\u001b[0m\u001b[0;34m'is_stream'\u001b[0m\u001b[0;34m]\u001b[0m\u001b[0;34m:\u001b[0m\u001b[0;34m\u001b[0m\u001b[0;34m\u001b[0m\u001b[0m\n",
      "\u001b[0;31mTwitterRequestError\u001b[0m: ('{\"errors\":[{\"message\":\"Sorry, that page does not exist\",\"code\":34}]}',) (404): {\"errors\":[{\"message\":\"Sorry, that page does not exist\",\"code\":34}]}"
     ]
    }
   ],
   "source": [
    "for i, item in enumerate(r.get_iterator(wait=5)):\n",
    "    print(item)"
   ]
  },
  {
   "cell_type": "code",
   "execution_count": null,
   "id": "c64af605-fea7-4bbf-9127-059bac8ce570",
   "metadata": {},
   "outputs": [],
   "source": []
  },
  {
   "cell_type": "code",
   "execution_count": null,
   "id": "05404773-2e50-4730-b311-c1dd629529cf",
   "metadata": {},
   "outputs": [],
   "source": []
  },
  {
   "cell_type": "code",
   "execution_count": null,
   "id": "9815aa55-e7e7-4c4d-b864-458425c09f84",
   "metadata": {},
   "outputs": [],
   "source": [
    "def md5JSONhash(jobj):\n",
    "    a = json.dumps(jobj, sort_keys=True)\n",
    "    return md5(a.encode(\"utf-8\")).hexdigest()\n",
    "\n",
    "path_hash = lambda x: md5JSONhash(x)[0:7]\n",
    "\n",
    "def download_day(query, day, output_folder='.'):\n",
    "    print(f'{path_hash(query)}')\n",
    "    \n",
    "    day_start, day_end = day\n",
    "\n",
    "    base_name = f'{output_folder}/{path_hash(query)}_{day_start.format(\"YYYY-MM-DD\")}'\n",
    "\n",
    "    ## check if file already exists\n",
    "#     if isfile(f'{base_name}_req.json'):\n",
    "#         continue\n",
    "#     r = TwitterPager(api, 'search/tweets', {'q':'pizza', 'count':100})\n",
    "\n",
    "    r = TwitterPager(api, 'tweets/search/all', {\n",
    "        'q': 'pizza', \n",
    "        'max_results': 100,\n",
    "        'expansions': 'attachments.media_keys,author_id,entities.mentions.username,geo.place_id,in_reply_to_user_id,referenced_tweets.id,referenced_tweets.id.author_id',\n",
    "        'tweet.fields': 'public_metrics,reply_settings,source,text,id,author_id,entities,created_at,attachments,context_annotations,lang,possibly_sensitive,withheld,conversation_id,geo,in_reply_to_user_id,referenced_tweets',\n",
    "        'user.fields': 'created_at,description,entities,id,location,name,pinned_tweet_id,profile_image_url,protected,public_metrics,username,verified,withheld',\n",
    "        'place.fields': 'contained_within,country,country_code,full_name,geo,id,name,place_type',\n",
    "    }, hydrate_type=2)\n",
    "\n",
    "\n",
    "    ## load data\n",
    "    path = f'{base_name}_res.jsonl'\n",
    "\n",
    "    for i, item in enumerate(r.get_iterator(wait=5)):\n",
    "        if 'text' in item:\n",
    "            with open(path, 'a') as of:\n",
    "                of.write(json.dumps(item) + '\\n')\n",
    "                of.flush()\n",
    "\n",
    "        elif 'message' in item and item['code'] == 88:\n",
    "            print('rate limit')\n",
    "            time.sleep(10)\n",
    "\n",
    "    ## store query information\n",
    "    with open(f'{base_name}_req.json', 'w') as of:\n",
    "        json.dump(r.params, of)\n",
    "\n",
    "        time.sleep(7)\n",
    "        \n",
    "for d in arrow.Arrow.span_range('day', datetime.datetime(2021, 11, 18), datetime.datetime(2021, 11, 23)):\n",
    "    download_day(query,d)\n",
    "    break"
   ]
  },
  {
   "cell_type": "code",
   "execution_count": null,
   "id": "e2098724-d5ed-4639-8da0-7357edcf7bcb",
   "metadata": {},
   "outputs": [],
   "source": [
    "for i, item in enumerate(r.get_iterator(wait=5)):\n",
    "    print(item)"
   ]
  },
  {
   "cell_type": "code",
   "execution_count": null,
   "id": "a843767c-cb97-4589-ae2c-194a35314354",
   "metadata": {},
   "outputs": [],
   "source": []
  },
  {
   "cell_type": "code",
   "execution_count": null,
   "id": "635aabc2-81bc-4718-a7fc-0e4e2c5f2f7e",
   "metadata": {},
   "outputs": [],
   "source": []
  },
  {
   "cell_type": "code",
   "execution_count": null,
   "id": "b9e6cf0b-b29b-4e4c-af52-4c7c639beff8",
   "metadata": {},
   "outputs": [],
   "source": [
    "r = api.request('statuses/update', {'status':'This is a tweet!'})\n",
    "print(r.status_code)"
   ]
  },
  {
   "cell_type": "code",
   "execution_count": null,
   "id": "c078db20-e9eb-4eb0-81cd-b86e6287a8a5",
   "metadata": {},
   "outputs": [],
   "source": [
    "r = TwitterPager(api, 'search/tweets', {'q':'pizza', 'count':100})\n",
    "for item in r.get_iterator():\n",
    "    if 'text' in item:\n",
    "        print item['text']\n",
    "    elif 'message' in item and item['code'] == 88:\n",
    "        print 'SUSPEND, RATE LIMIT EXCEEDED: %s\\n' % item['message']\n",
    "        break"
   ]
  },
  {
   "cell_type": "code",
   "execution_count": null,
   "id": "6a67b863-b659-4339-accc-784046f9074b",
   "metadata": {},
   "outputs": [],
   "source": [
    "r = TwitterPager(api, 'search/tweets', {'q':'pizza', 'count':100})\n",
    "for item in r.get_iterator():\n",
    "    if 'text' in item:\n",
    "        print(item['text'])\n",
    "    elif 'message' in item and item['code'] == 88:\n",
    "        print('SUSPEND, RATE LIMIT EXCEEDED: %s\\n' % item['message'])\n",
    "        break"
   ]
  },
  {
   "cell_type": "code",
   "execution_count": null,
   "id": "8c03665e-f354-4eed-8feb-4ffa57a87830",
   "metadata": {},
   "outputs": [],
   "source": []
  },
  {
   "cell_type": "code",
   "execution_count": 12,
   "id": "5db9f858-0b7e-401a-8a99-94397bb61fbf",
   "metadata": {},
   "outputs": [],
   "source": []
  },
  {
   "cell_type": "code",
   "execution_count": 15,
   "id": "a534a3ce-0d0c-4c77-baad-12ce70076f26",
   "metadata": {},
   "outputs": [
    {
     "data": {
      "text/plain": [
       "dict"
      ]
     },
     "execution_count": 15,
     "metadata": {},
     "output_type": "execute_result"
    }
   ],
   "source": [
    "type(x)"
   ]
  },
  {
   "cell_type": "code",
   "execution_count": 46,
   "id": "5e0d632e-8537-43ee-ab8d-49e251dfdce3",
   "metadata": {},
   "outputs": [
    {
     "data": {
      "text/plain": [
       "\"dict_values([['usa', 'covid', 'pfizer'], '2019-10-22', '2021-10-23'])\""
      ]
     },
     "execution_count": 46,
     "metadata": {},
     "output_type": "execute_result"
    }
   ],
   "source": [
    "str(x.values())"
   ]
  },
  {
   "cell_type": "code",
   "execution_count": 43,
   "id": "e1922069-cd65-4064-99eb-e43c00b7d89b",
   "metadata": {},
   "outputs": [
    {
     "ename": "TypeError",
     "evalue": "unhashable type: 'list'",
     "output_type": "error",
     "traceback": [
      "\u001b[0;31m---------------------------------------------------------------------------\u001b[0m",
      "\u001b[0;31mTypeError\u001b[0m                                 Traceback (most recent call last)",
      "\u001b[0;32m/tmp/ipykernel_495/1247607993.py\u001b[0m in \u001b[0;36m<module>\u001b[0;34m\u001b[0m\n\u001b[0;32m----> 1\u001b[0;31m \u001b[0mfrozenset\u001b[0m\u001b[0;34m(\u001b[0m\u001b[0mx\u001b[0m\u001b[0;34m.\u001b[0m\u001b[0mvalues\u001b[0m\u001b[0;34m(\u001b[0m\u001b[0;34m)\u001b[0m\u001b[0;34m)\u001b[0m\u001b[0;34m\u001b[0m\u001b[0;34m\u001b[0m\u001b[0m\n\u001b[0m",
      "\u001b[0;31mTypeError\u001b[0m: unhashable type: 'list'"
     ]
    }
   ],
   "source": [
    "frozenset(x.values())"
   ]
  },
  {
   "cell_type": "code",
   "execution_count": 38,
   "id": "be617d04-0fbe-4031-a2f1-b6686f336e95",
   "metadata": {},
   "outputs": [
    {
     "ename": "AttributeError",
     "evalue": "'dict' object has no attribute 'itervalues'",
     "output_type": "error",
     "traceback": [
      "\u001b[0;31m---------------------------------------------------------------------------\u001b[0m",
      "\u001b[0;31mAttributeError\u001b[0m                            Traceback (most recent call last)",
      "\u001b[0;32m/tmp/ipykernel_495/2237322710.py\u001b[0m in \u001b[0;36m<module>\u001b[0;34m\u001b[0m\n\u001b[0;32m----> 1\u001b[0;31m \u001b[0mxx\u001b[0m \u001b[0;34m=\u001b[0m \u001b[0mfrozenset\u001b[0m\u001b[0;34m(\u001b[0m\u001b[0mx\u001b[0m\u001b[0;34m.\u001b[0m\u001b[0mitervalues\u001b[0m\u001b[0;34m(\u001b[0m\u001b[0;34m)\u001b[0m\u001b[0;34m)\u001b[0m\u001b[0;34m\u001b[0m\u001b[0;34m\u001b[0m\u001b[0m\n\u001b[0m",
      "\u001b[0;31mAttributeError\u001b[0m: 'dict' object has no attribute 'itervalues'"
     ]
    }
   ],
   "source": [
    "xx = frozenset(x.itervalues())"
   ]
  },
  {
   "cell_type": "code",
   "execution_count": 37,
   "id": "650d7f90-a1d7-4aaa-9dd2-65c05c23c8fe",
   "metadata": {},
   "outputs": [
    {
     "data": {
      "text/plain": [
       "'start'"
      ]
     },
     "execution_count": 37,
     "metadata": {},
     "output_type": "execute_result"
    }
   ],
   "source": [
    "xx[0]"
   ]
  },
  {
   "cell_type": "code",
   "execution_count": 18,
   "id": "f93d2b11-f214-40c3-88a8-c5d7d56ec582",
   "metadata": {},
   "outputs": [],
   "source": [
    "test = set()"
   ]
  },
  {
   "cell_type": "code",
   "execution_count": 25,
   "id": "0ca74fdd-8f79-4adf-bcd4-560c646f6c71",
   "metadata": {},
   "outputs": [
    {
     "ename": "TypeError",
     "evalue": "unhashable type: 'list'",
     "output_type": "error",
     "traceback": [
      "\u001b[0;31m---------------------------------------------------------------------------\u001b[0m",
      "\u001b[0;31mTypeError\u001b[0m                                 Traceback (most recent call last)",
      "\u001b[0;32m/tmp/ipykernel_495/358073231.py\u001b[0m in \u001b[0;36m<module>\u001b[0;34m\u001b[0m\n\u001b[0;32m----> 1\u001b[0;31m \u001b[0mhash\u001b[0m\u001b[0;34m(\u001b[0m\u001b[0mxx\u001b[0m\u001b[0;34m)\u001b[0m\u001b[0;34m\u001b[0m\u001b[0;34m\u001b[0m\u001b[0m\n\u001b[0m",
      "\u001b[0;31mTypeError\u001b[0m: unhashable type: 'list'"
     ]
    }
   ],
   "source": [
    "hash(xx)"
   ]
  },
  {
   "cell_type": "code",
   "execution_count": 21,
   "id": "71ceac27-ce0a-4adf-961c-25924e0c6ee0",
   "metadata": {},
   "outputs": [
    {
     "ename": "TypeError",
     "evalue": "unhashable type: 'list'",
     "output_type": "error",
     "traceback": [
      "\u001b[0;31m---------------------------------------------------------------------------\u001b[0m",
      "\u001b[0;31mTypeError\u001b[0m                                 Traceback (most recent call last)",
      "\u001b[0;32m/tmp/ipykernel_495/4010474302.py\u001b[0m in \u001b[0;36m<module>\u001b[0;34m\u001b[0m\n\u001b[0;32m----> 1\u001b[0;31m \u001b[0mtest\u001b[0m\u001b[0;34m.\u001b[0m\u001b[0madd\u001b[0m\u001b[0;34m(\u001b[0m\u001b[0mhash\u001b[0m\u001b[0;34m(\u001b[0m\u001b[0mxx\u001b[0m\u001b[0;34m)\u001b[0m\u001b[0;34m)\u001b[0m\u001b[0;34m\u001b[0m\u001b[0;34m\u001b[0m\u001b[0m\n\u001b[0m",
      "\u001b[0;31mTypeError\u001b[0m: unhashable type: 'list'"
     ]
    }
   ],
   "source": [
    "test.add(hash(xx))"
   ]
  },
  {
   "cell_type": "code",
   "execution_count": 49,
   "id": "77a2e2ad-fa2e-4e8a-b01b-8bcff08ade8e",
   "metadata": {},
   "outputs": [
    {
     "name": "stdout",
     "output_type": "stream",
     "text": [
      "051c8705861072b9391284e7ce5537f8\n"
     ]
    }
   ],
   "source": [
    "import hashlib\n",
    "import json\n",
    "\n",
    "x = {\"keywords\":[\"usa\",\"covid\",\"pfizer\"],\"start\":\"2019-10-22\",\"end\":\"2021-10-23\"}\n",
    "x1 = {\"keywords\":[\"covid\",\"usa\",\"pfizer\"],\"start\":\"2019-10-22\",\"end\":\"2021-10-23\"}\n",
    "data = ['only', 'lists', [1,2,3], 'dictionaries', {'a':0,'b':1}, 'numbers', 47, 'strings']\n",
    "data_md5 = hashlib.md5(json.dumps(x1, sort_keys=True).encode('utf-8')).hexdigest()\n",
    "\n",
    "print(data_md5)"
   ]
  },
  {
   "cell_type": "code",
   "execution_count": 50,
   "id": "6b5659fb-a14a-407d-8b19-3a3fa472aa90",
   "metadata": {},
   "outputs": [],
   "source": [
    "cars = ['Ford', 'BMW', 'Volvo']\n",
    "cars.sort()"
   ]
  },
  {
   "cell_type": "code",
   "execution_count": 51,
   "id": "20da2e8f-3497-4c3c-afdb-2e79ee366e95",
   "metadata": {},
   "outputs": [
    {
     "data": {
      "text/plain": [
       "['BMW', 'Ford', 'Volvo']"
      ]
     },
     "execution_count": 51,
     "metadata": {},
     "output_type": "execute_result"
    }
   ],
   "source": [
    "cars"
   ]
  },
  {
   "cell_type": "code",
   "execution_count": 53,
   "id": "54ab7c6f-4c74-42d5-ba06-35f4097879e8",
   "metadata": {},
   "outputs": [],
   "source": [
    "x['keywords'].sort()"
   ]
  },
  {
   "cell_type": "code",
   "execution_count": 54,
   "id": "51bd6ba5-8f15-493a-95b5-08ca4ea5d0c2",
   "metadata": {},
   "outputs": [
    {
     "data": {
      "text/plain": [
       "{'keywords': ['covid', 'pfizer', 'usa'],\n",
       " 'start': '2019-10-22',\n",
       " 'end': '2021-10-23'}"
      ]
     },
     "execution_count": 54,
     "metadata": {},
     "output_type": "execute_result"
    }
   ],
   "source": [
    "x"
   ]
  },
  {
   "cell_type": "code",
   "execution_count": 1,
   "id": "6c6a777a-c452-4363-b54d-9f579487d1ec",
   "metadata": {},
   "outputs": [],
   "source": [
    "from datetime import datetime"
   ]
  },
  {
   "cell_type": "code",
   "execution_count": 10,
   "id": "d05e98f2-b486-4fe6-a87a-6ca686b603f8",
   "metadata": {},
   "outputs": [],
   "source": [
    "x = datetime(2000,3,1)"
   ]
  },
  {
   "cell_type": "code",
   "execution_count": 11,
   "id": "7523fcbc-2069-4a47-8cb6-fbbf28f50c9c",
   "metadata": {},
   "outputs": [],
   "source": [
    "import arrow"
   ]
  },
  {
   "cell_type": "code",
   "execution_count": 12,
   "id": "9ae330ba-42ba-4f33-ac47-51ccbb9db94e",
   "metadata": {},
   "outputs": [
    {
     "ename": "TypeError",
     "evalue": "__init__() missing 2 required positional arguments: 'month' and 'day'",
     "output_type": "error",
     "traceback": [
      "\u001b[0;31m---------------------------------------------------------------------------\u001b[0m",
      "\u001b[0;31mTypeError\u001b[0m                                 Traceback (most recent call last)",
      "\u001b[0;32m/tmp/ipykernel_61/2037847767.py\u001b[0m in \u001b[0;36m<module>\u001b[0;34m\u001b[0m\n\u001b[0;32m----> 1\u001b[0;31m \u001b[0marrow\u001b[0m\u001b[0;34m.\u001b[0m\u001b[0mArrow\u001b[0m\u001b[0;34m(\u001b[0m\u001b[0mx\u001b[0m\u001b[0;34m)\u001b[0m\u001b[0;34m\u001b[0m\u001b[0;34m\u001b[0m\u001b[0m\n\u001b[0m",
      "\u001b[0;31mTypeError\u001b[0m: __init__() missing 2 required positional arguments: 'month' and 'day'"
     ]
    }
   ],
   "source": [
    "arrow.Arrow(x)"
   ]
  },
  {
   "cell_type": "code",
   "execution_count": 13,
   "id": "e7c036a0-30b4-4982-83f1-0f38b10f9a3e",
   "metadata": {},
   "outputs": [
    {
     "data": {
      "text/plain": [
       "datetime.datetime(2000, 3, 1, 0, 0)"
      ]
     },
     "execution_count": 13,
     "metadata": {},
     "output_type": "execute_result"
    }
   ],
   "source": [
    "x"
   ]
  },
  {
   "cell_type": "code",
   "execution_count": 15,
   "id": "768ef24e-74ee-4905-acad-c39b45a5e313",
   "metadata": {},
   "outputs": [
    {
     "data": {
      "text/plain": [
       "'2000-03-01T00:00:00+00:00'"
      ]
     },
     "execution_count": 15,
     "metadata": {},
     "output_type": "execute_result"
    }
   ],
   "source": [
    "arrow.get(x).format('YYYY-MM-DDTHH:mm:ssZZ')"
   ]
  },
  {
   "cell_type": "code",
   "execution_count": null,
   "id": "d6272653-1731-465f-bdef-010c3e87ca82",
   "metadata": {},
   "outputs": [],
   "source": []
  }
 ],
 "metadata": {
  "kernelspec": {
   "display_name": "Python 3 (ipykernel)",
   "language": "python",
   "name": "python3"
  },
  "language_info": {
   "codemirror_mode": {
    "name": "ipython",
    "version": 3
   },
   "file_extension": ".py",
   "mimetype": "text/x-python",
   "name": "python",
   "nbconvert_exporter": "python",
   "pygments_lexer": "ipython3",
   "version": "3.9.6"
  }
 },
 "nbformat": 4,
 "nbformat_minor": 5
}
